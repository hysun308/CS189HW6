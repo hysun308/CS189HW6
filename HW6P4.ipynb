{
 "cells": [
  {
   "cell_type": "code",
   "execution_count": 1,
   "metadata": {
    "collapsed": true
   },
   "outputs": [],
   "source": [
    "import numpy as np\n",
    "import matplotlib.pyplot as plt\n",
    "import scipy\n",
    "import scipy.io as sio\n",
    "import random\n",
    "import pandas as pd\n",
    "import sklearn.metrics as metrics\n",
    "%matplotlib inline"
   ]
  },
  {
   "cell_type": "code",
   "execution_count": 2,
   "metadata": {
    "collapsed": true
   },
   "outputs": [],
   "source": [
    "def csv_out(label):\n",
    "    with open('heyi1.csv','w') as file:\n",
    "        fwriter = csv.writer(file)\n",
    "        fwriter.writerow(['Id','Category'])\n",
    "        for i in range(len(label)):\n",
    "            fwriter.writerow([i+1,int(label[i])])"
   ]
  },
  {
   "cell_type": "code",
   "execution_count": 3,
   "metadata": {
    "collapsed": false,
    "scrolled": false
   },
   "outputs": [
    {
     "name": "stdout",
     "output_type": "stream",
     "text": [
      "[[  nan   nan   nan ...,   nan   nan   nan]\n",
      " [-0.15  1.02   nan ...,  1.84   nan   nan]\n",
      " [  nan   nan   nan ...,   nan   nan   nan]\n",
      " ..., \n",
      " [ 3.25 -7.57   nan ...,  2.09   nan   nan]\n",
      " [  nan  5.53   nan ...,  7.57   nan   nan]\n",
      " [ 5.97  0.63  3.2  ...,   nan   nan   nan]]\n"
     ]
    }
   ],
   "source": [
    "if __name__ ==\"__main__\":\n",
    "    data = sio.loadmat(\"./joke_data/joke_train.mat\")\n",
    "    X_train = data['train']\n",
    "    validation_data = np.loadtxt('./joke_data/validation.txt',delimiter=',')\n",
    "    validation_index = validation_data[:,0:2]-1\n",
    "    validation_index = validation_index.astype(int)\n",
    "    labels_valid = validation_data[:,2].astype(int)\n",
    "    test_data = np.loadtxt('./joke_data/query.txt',delimiter=',')\n",
    "    test_data = test_data[:,1:3]\n",
    "    print(X_train)"
   ]
  },
  {
   "cell_type": "code",
   "execution_count": null,
   "metadata": {
    "collapsed": false
   },
   "outputs": [],
   "source": [
    "X_zero = X_train\n",
    "X_zero[np.isnan(X_zero)]=0\n",
    "U, S, Vh = scipy.linalg.svd(X_zero.T)\n",
    "d = 2;\n",
    "R1 = U[:,0:d].dot(np.diagflat(S[0:d])).dot(Vh[0:d,:])\n",
    "R1 = R1.T\n",
    "R1 = np.round(R1)\n",
    "MSE1 = np.sum((R1[~np.isnan(X_train)]-X_train[~np.isnan(X_train)])**2)\n",
    "print(MSE1)\n",
    "print(U.shape)\n",
    "print(S.shape)\n",
    "print(Vh.shape)"
   ]
  },
  {
   "cell_type": "code",
   "execution_count": 5,
   "metadata": {
    "collapsed": false
   },
   "outputs": [
    {
     "name": "stdout",
     "output_type": "stream",
     "text": [
      "19457311.7473\n"
     ]
    }
   ],
   "source": [
    "d2 = 5\n",
    "R2 = U[:,0:d2].dot(np.diagflat(S[0:d2])).dot(Vh[0:d2,:])\n",
    "R2 = R2.T\n",
    "R2 = np.round(R2)\n",
    "MSE2 = np.sum((R2[~np.isnan(X_train)]-X_train[~np.isnan(X_train)])**2)\n",
    "print(MSE2)"
   ]
  },
  {
   "cell_type": "code",
   "execution_count": 6,
   "metadata": {
    "collapsed": false
   },
   "outputs": [
    {
     "name": "stdout",
     "output_type": "stream",
     "text": [
      "17601044.6873\n"
     ]
    }
   ],
   "source": [
    "d3 = 10\n",
    "R3 = U[:,0:d3].dot(np.diagflat(S[0:d3])).dot(Vh[0:d3,:])\n",
    "R3 = R3.T\n",
    "R3 = np.round(R3)\n",
    "MSE3 = np.sum((R3[~np.isnan(X_train)]-X_train[~np.isnan(X_train)])**2)\n",
    "print(MSE3)"
   ]
  },
  {
   "cell_type": "code",
   "execution_count": 7,
   "metadata": {
    "collapsed": false
   },
   "outputs": [
    {
     "name": "stdout",
     "output_type": "stream",
     "text": [
      "14651557.1273\n"
     ]
    }
   ],
   "source": [
    "d4 = 20\n",
    "R4 = U[:,0:d4].dot(np.diagflat(S[0:d4])).dot(Vh[0:d4,:])\n",
    "R4 = R4.T\n",
    "R4 = np.round(R4)\n",
    "MSE4 = np.sum((R4[~np.isnan(X_train)]-X_train[~np.isnan(X_train)])**2)\n",
    "print(MSE4)"
   ]
  },
  {
   "cell_type": "code",
   "execution_count": 8,
   "metadata": {
    "collapsed": false
   },
   "outputs": [
    {
     "name": "stdout",
     "output_type": "stream",
     "text": [
      "Validation accuracy: 0.33523035230352305\n"
     ]
    }
   ],
   "source": [
    "l = []\n",
    "for row in validation_index:\n",
    "    l.append(R1[row[0],row[1]])\n",
    "pred_labels_valid = np.array(l)\n",
    "print(\"Validation accuracy: {0}\".format(metrics.accuracy_score(labels_valid, pred_labels_valid)))"
   ]
  },
  {
   "cell_type": "code",
   "execution_count": null,
   "metadata": {
    "collapsed": true
   },
   "outputs": [],
   "source": [
    ""
   ]
  }
 ],
 "metadata": {
  "anaconda-cloud": {},
  "kernelspec": {
   "display_name": "Python [Root]",
   "language": "python",
   "name": "Python [Root]"
  },
  "language_info": {
   "codemirror_mode": {
    "name": "ipython",
    "version": 3.0
   },
   "file_extension": ".py",
   "mimetype": "text/x-python",
   "name": "python",
   "nbconvert_exporter": "python",
   "pygments_lexer": "ipython3",
   "version": "3.5.2"
  }
 },
 "nbformat": 4,
 "nbformat_minor": 0
}